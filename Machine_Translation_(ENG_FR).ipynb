{
  "cells": [
    {
      "cell_type": "markdown",
      "metadata": {
        "id": "view-in-github",
        "colab_type": "text"
      },
      "source": [
        "<a href=\"https://colab.research.google.com/github/BashayerF/BashayerF/blob/main/Machine_Translation_(ENG_FR).ipynb\" target=\"_parent\"><img src=\"https://colab.research.google.com/assets/colab-badge.svg\" alt=\"Open In Colab\"/></a>"
      ]
    },
    {
      "cell_type": "markdown",
      "metadata": {
        "id": "xiC75uo6u_Of"
      },
      "source": [
        "##Machine Translation Using a Seq2Seq Architecture\n",
        "\n",
        "---\n",
        "The goal of this colab is to working on machine translation problem the input is gonna be (in english), and the output is gonna be the translated sentence (in french). like what happens with Google Translate to have an idea about how Google Translate works and the challenges that exist with a translation problem.\n"
      ]
    },
    {
      "cell_type": "markdown",
      "metadata": {
        "id": "SBTvDTzBv293"
      },
      "source": [
        "## Importing Libraries"
      ]
    },
    {
      "cell_type": "markdown",
      "metadata": {
        "id": "4_j1ZzS3v6N3"
      },
      "source": [
        "We start by importing numpy and pandas and then we can add the rest"
      ]
    },
    {
      "cell_type": "code",
      "execution_count": null,
      "metadata": {
        "id": "n0IARXAX1e1m"
      },
      "outputs": [],
      "source": [
        "import pandas as pd\n",
        "import numpy as np"
      ]
    },
    {
      "cell_type": "markdown",
      "metadata": {
        "id": "vAcLqZ7uv-SJ"
      },
      "source": [
        "We clone the github repository where our data exists. Here is the github link: https://github.com/zaka-ai/machine_learning_certification/tree/main/Challenge%207"
      ]
    },
    {
      "cell_type": "markdown",
      "metadata": {
        "id": "i3hLN42axOjn"
      },
      "source": [
        "## Getting the data"
      ]
    },
    {
      "cell_type": "code",
      "execution_count": null,
      "metadata": {
        "colab": {
          "base_uri": "https://localhost:8080/"
        },
        "id": "0-M7cFxTPpqy",
        "outputId": "423fd6ba-fa26-494b-ffb7-ce74affc6dfb"
      },
      "outputs": [
        {
          "output_type": "stream",
          "name": "stdout",
          "text": [
            "Mounted at /content/drive\n"
          ]
        }
      ],
      "source": [
        "from google.colab import drive\n",
        "drive.mount('/content/drive')"
      ]
    },
    {
      "cell_type": "markdown",
      "metadata": {
        "id": "BaPr0N8cwGAv"
      },
      "source": [
        "We read the english sentences in a dataframe named \"english\", and the french sentences in a dataframe named \"french\""
      ]
    },
    {
      "cell_type": "code",
      "execution_count": null,
      "metadata": {
        "id": "kFj8gkP01lGT"
      },
      "outputs": [],
      "source": [
        "#reading the english sentences in a dataframe named \"english\"\n",
        "English = pd.read_csv('/content/drive/MyDrive/ML Certificate Program/Week 8 Challenge/en.csv')"
      ]
    },
    {
      "cell_type": "code",
      "execution_count": null,
      "metadata": {
        "id": "P4A7ZKt32A7s"
      },
      "outputs": [],
      "source": [
        "#reading the french sentences in a dataframe named \"french\"\n",
        "French = pd.read_csv('/content/drive/MyDrive/ML Certificate Program/Week 8 Challenge/fr.csv')"
      ]
    },
    {
      "cell_type": "code",
      "execution_count": null,
      "metadata": {
        "colab": {
          "base_uri": "https://localhost:8080/"
        },
        "id": "XhWJP-b02HKq",
        "outputId": "93342b9c-71b4-4432-aae9-900b060ad0a4"
      },
      "outputs": [
        {
          "output_type": "stream",
          "name": "stdout",
          "text": [
            "There are 137859 English_sentences and 137859 French_sentences.\n"
          ]
        }
      ],
      "source": [
        "English_sentences = English.shape[0]\n",
        "French_sentences = French.shape[0]\n",
        "print('There are {} English_sentences and {} French_sentences.'.format(English_sentences, French_sentences))"
      ]
    },
    {
      "cell_type": "code",
      "execution_count": null,
      "metadata": {
        "id": "-ZXxahsB2njn"
      },
      "outputs": [],
      "source": [
        "#concatenate the 2 dataframes into one dataframe called df where one column has the english senetnces and the other has the french sentences\n",
        "df = pd.concat([English, French], axis=1)"
      ]
    },
    {
      "cell_type": "code",
      "execution_count": null,
      "metadata": {
        "colab": {
          "base_uri": "https://localhost:8080/",
          "height": 112
        },
        "id": "eOHiQDXx3jFS",
        "outputId": "41a214fa-2d4f-478e-e989-3cdca7bf2195"
      },
      "outputs": [
        {
          "output_type": "execute_result",
          "data": {
            "text/plain": [
              "                                             English  \\\n",
              "0  the united states is usually chilly during jul...   \n",
              "1  california is usually quiet during march , and...   \n",
              "\n",
              "                                              French  \n",
              "0  les états-unis est généralement froid en juill...  \n",
              "1  california est généralement calme en mars , et...  "
            ],
            "text/html": [
              "\n",
              "  <div id=\"df-1384a78a-4da5-4e78-aeee-2f67ad7e177f\">\n",
              "    <div class=\"colab-df-container\">\n",
              "      <div>\n",
              "<style scoped>\n",
              "    .dataframe tbody tr th:only-of-type {\n",
              "        vertical-align: middle;\n",
              "    }\n",
              "\n",
              "    .dataframe tbody tr th {\n",
              "        vertical-align: top;\n",
              "    }\n",
              "\n",
              "    .dataframe thead th {\n",
              "        text-align: right;\n",
              "    }\n",
              "</style>\n",
              "<table border=\"1\" class=\"dataframe\">\n",
              "  <thead>\n",
              "    <tr style=\"text-align: right;\">\n",
              "      <th></th>\n",
              "      <th>English</th>\n",
              "      <th>French</th>\n",
              "    </tr>\n",
              "  </thead>\n",
              "  <tbody>\n",
              "    <tr>\n",
              "      <th>0</th>\n",
              "      <td>the united states is usually chilly during jul...</td>\n",
              "      <td>les états-unis est généralement froid en juill...</td>\n",
              "    </tr>\n",
              "    <tr>\n",
              "      <th>1</th>\n",
              "      <td>california is usually quiet during march , and...</td>\n",
              "      <td>california est généralement calme en mars , et...</td>\n",
              "    </tr>\n",
              "  </tbody>\n",
              "</table>\n",
              "</div>\n",
              "      <button class=\"colab-df-convert\" onclick=\"convertToInteractive('df-1384a78a-4da5-4e78-aeee-2f67ad7e177f')\"\n",
              "              title=\"Convert this dataframe to an interactive table.\"\n",
              "              style=\"display:none;\">\n",
              "        \n",
              "  <svg xmlns=\"http://www.w3.org/2000/svg\" height=\"24px\"viewBox=\"0 0 24 24\"\n",
              "       width=\"24px\">\n",
              "    <path d=\"M0 0h24v24H0V0z\" fill=\"none\"/>\n",
              "    <path d=\"M18.56 5.44l.94 2.06.94-2.06 2.06-.94-2.06-.94-.94-2.06-.94 2.06-2.06.94zm-11 1L8.5 8.5l.94-2.06 2.06-.94-2.06-.94L8.5 2.5l-.94 2.06-2.06.94zm10 10l.94 2.06.94-2.06 2.06-.94-2.06-.94-.94-2.06-.94 2.06-2.06.94z\"/><path d=\"M17.41 7.96l-1.37-1.37c-.4-.4-.92-.59-1.43-.59-.52 0-1.04.2-1.43.59L10.3 9.45l-7.72 7.72c-.78.78-.78 2.05 0 2.83L4 21.41c.39.39.9.59 1.41.59.51 0 1.02-.2 1.41-.59l7.78-7.78 2.81-2.81c.8-.78.8-2.07 0-2.86zM5.41 20L4 18.59l7.72-7.72 1.47 1.35L5.41 20z\"/>\n",
              "  </svg>\n",
              "      </button>\n",
              "      \n",
              "  <style>\n",
              "    .colab-df-container {\n",
              "      display:flex;\n",
              "      flex-wrap:wrap;\n",
              "      gap: 12px;\n",
              "    }\n",
              "\n",
              "    .colab-df-convert {\n",
              "      background-color: #E8F0FE;\n",
              "      border: none;\n",
              "      border-radius: 50%;\n",
              "      cursor: pointer;\n",
              "      display: none;\n",
              "      fill: #1967D2;\n",
              "      height: 32px;\n",
              "      padding: 0 0 0 0;\n",
              "      width: 32px;\n",
              "    }\n",
              "\n",
              "    .colab-df-convert:hover {\n",
              "      background-color: #E2EBFA;\n",
              "      box-shadow: 0px 1px 2px rgba(60, 64, 67, 0.3), 0px 1px 3px 1px rgba(60, 64, 67, 0.15);\n",
              "      fill: #174EA6;\n",
              "    }\n",
              "\n",
              "    [theme=dark] .colab-df-convert {\n",
              "      background-color: #3B4455;\n",
              "      fill: #D2E3FC;\n",
              "    }\n",
              "\n",
              "    [theme=dark] .colab-df-convert:hover {\n",
              "      background-color: #434B5C;\n",
              "      box-shadow: 0px 1px 3px 1px rgba(0, 0, 0, 0.15);\n",
              "      filter: drop-shadow(0px 1px 2px rgba(0, 0, 0, 0.3));\n",
              "      fill: #FFFFFF;\n",
              "    }\n",
              "  </style>\n",
              "\n",
              "      <script>\n",
              "        const buttonEl =\n",
              "          document.querySelector('#df-1384a78a-4da5-4e78-aeee-2f67ad7e177f button.colab-df-convert');\n",
              "        buttonEl.style.display =\n",
              "          google.colab.kernel.accessAllowed ? 'block' : 'none';\n",
              "\n",
              "        async function convertToInteractive(key) {\n",
              "          const element = document.querySelector('#df-1384a78a-4da5-4e78-aeee-2f67ad7e177f');\n",
              "          const dataTable =\n",
              "            await google.colab.kernel.invokeFunction('convertToInteractive',\n",
              "                                                     [key], {});\n",
              "          if (!dataTable) return;\n",
              "\n",
              "          const docLinkHtml = 'Like what you see? Visit the ' +\n",
              "            '<a target=\"_blank\" href=https://colab.research.google.com/notebooks/data_table.ipynb>data table notebook</a>'\n",
              "            + ' to learn more about interactive tables.';\n",
              "          element.innerHTML = '';\n",
              "          dataTable['output_type'] = 'display_data';\n",
              "          await google.colab.output.renderOutput(dataTable, element);\n",
              "          const docLink = document.createElement('div');\n",
              "          docLink.innerHTML = docLinkHtml;\n",
              "          element.appendChild(docLink);\n",
              "        }\n",
              "      </script>\n",
              "    </div>\n",
              "  </div>\n",
              "  "
            ]
          },
          "metadata": {},
          "execution_count": 7
        }
      ],
      "source": [
        "df.columns =['English','French']\n",
        "df.head(2)"
      ]
    },
    {
      "cell_type": "code",
      "execution_count": null,
      "metadata": {
        "colab": {
          "base_uri": "https://localhost:8080/"
        },
        "id": "QuRVWch23ujo",
        "outputId": "6dd40596-9aef-4fc9-fe88-7b8fe4eb3514"
      },
      "outputs": [
        {
          "output_type": "execute_result",
          "data": {
            "text/plain": [
              "English    the united states is usually chilly during jul...\n",
              "French     les états-unis est généralement froid en juill...\n",
              "Name: 0, dtype: object"
            ]
          },
          "metadata": {},
          "execution_count": 8
        }
      ],
      "source": [
        "#Pick a sentence and print it in both languages\n",
        "df.loc[0]"
      ]
    },
    {
      "cell_type": "markdown",
      "metadata": {
        "id": "FQjXYP1txFCi"
      },
      "source": [
        "##Cleaning Data"
      ]
    },
    {
      "cell_type": "code",
      "execution_count": null,
      "metadata": {
        "colab": {
          "base_uri": "https://localhost:8080/"
        },
        "id": "6YYOt5QftcFI",
        "outputId": "7d12b0a2-e988-40ee-9446-e4612c8683dd"
      },
      "outputs": [
        {
          "output_type": "stream",
          "name": "stderr",
          "text": [
            "/usr/local/lib/python3.7/dist-packages/ipykernel_launcher.py:2: FutureWarning: The default value of regex will change from True to False in a future version.\n",
            "  \n",
            "/usr/local/lib/python3.7/dist-packages/ipykernel_launcher.py:3: FutureWarning: The default value of regex will change from True to False in a future version.\n",
            "  This is separate from the ipykernel package so we can avoid doing imports until\n"
          ]
        }
      ],
      "source": [
        "#The data that we have is almost clean , we just need to remove the punctuations inside of it.\n",
        "df['English'] = df['English'].str.replace(r'[^\\w\\s]+', '')\n",
        "df['French'] = df['French'].str.replace(r'[^\\w\\s]+', '')"
      ]
    },
    {
      "cell_type": "code",
      "execution_count": null,
      "metadata": {
        "colab": {
          "base_uri": "https://localhost:8080/"
        },
        "id": "T80tiWxe84G7",
        "outputId": "c5c24c73-f749-44ed-e6e2-5f7f8ccd03cd"
      },
      "outputs": [
        {
          "output_type": "execute_result",
          "data": {
            "text/plain": [
              "English    the united states is usually chilly during jul...\n",
              "French     les étatsunis est généralement froid en juille...\n",
              "Name: 0, dtype: object"
            ]
          },
          "metadata": {},
          "execution_count": 10
        }
      ],
      "source": [
        "#Make sure that the punctuation is removed by printing the example printed earlier.\n",
        "df.loc[0]"
      ]
    },
    {
      "cell_type": "markdown",
      "metadata": {
        "id": "ZuFNjoBAx4oN"
      },
      "source": [
        "##Exploring the Data"
      ]
    },
    {
      "cell_type": "markdown",
      "metadata": {
        "id": "ATfefzPExi2k"
      },
      "source": [
        "Add 2 columns **ENG Length** and **FR Length** to the dataset to show how many words does a sentence contain"
      ]
    },
    {
      "cell_type": "code",
      "execution_count": null,
      "metadata": {
        "id": "Dakeo81s352S"
      },
      "outputs": [],
      "source": [
        "df['ENG_Length'] = df['English'].str.split().str.len()"
      ]
    },
    {
      "cell_type": "code",
      "execution_count": null,
      "metadata": {
        "colab": {
          "base_uri": "https://localhost:8080/",
          "height": 423
        },
        "id": "49keasjaPaaK",
        "outputId": "c091d477-61cc-4a88-9c52-f103b2b8ce3a"
      },
      "outputs": [
        {
          "output_type": "execute_result",
          "data": {
            "text/plain": [
              "                                                  English  \\\n",
              "0       the united states is usually chilly during jul...   \n",
              "1       california is usually quiet during march  and ...   \n",
              "2       the united states is sometimes mild during jun...   \n",
              "3       your least liked fruit is the grape  but my le...   \n",
              "4       his favorite fruit is the orange  but my favor...   \n",
              "...                                                   ...   \n",
              "137854  france is never busy during march  and it is s...   \n",
              "137855  india is sometimes beautiful during spring  an...   \n",
              "137856  india is never wet during summer  but it is so...   \n",
              "137857  france is never chilly during january  but it ...   \n",
              "137858  the orange is her favorite fruit  but the bana...   \n",
              "\n",
              "                                                   French  ENG_Length  \\\n",
              "0       les étatsunis est généralement froid en juille...          15   \n",
              "1       california est généralement calme en mars  et ...          13   \n",
              "2       les étatsunis est parfois légère en juin  et i...          14   \n",
              "3       votre moins aimé fruit est le raisin  mais mon...          14   \n",
              "4       son fruit préféré est lorange  mais mon préfér...          12   \n",
              "...                                                   ...         ...   \n",
              "137854  la france est jamais occupée en mars  et il es...          13   \n",
              "137855  l inde est parfois belle au printemps  et il e...          12   \n",
              "137856  l inde est jamais mouillé pendant l été  mais ...          13   \n",
              "137857  la france est jamais froid en janvier  mais il...          13   \n",
              "137858  lorange est son fruit préféré  mais la banane ...          12   \n",
              "\n",
              "        FR_Length  \n",
              "0              13  \n",
              "1              13  \n",
              "2              13  \n",
              "3              14  \n",
              "4              11  \n",
              "...           ...  \n",
              "137854         14  \n",
              "137855         13  \n",
              "137856         15  \n",
              "137857         14  \n",
              "137858         11  \n",
              "\n",
              "[137859 rows x 4 columns]"
            ],
            "text/html": [
              "\n",
              "  <div id=\"df-782851bd-d506-464d-99e1-6a0bb2edbf8e\">\n",
              "    <div class=\"colab-df-container\">\n",
              "      <div>\n",
              "<style scoped>\n",
              "    .dataframe tbody tr th:only-of-type {\n",
              "        vertical-align: middle;\n",
              "    }\n",
              "\n",
              "    .dataframe tbody tr th {\n",
              "        vertical-align: top;\n",
              "    }\n",
              "\n",
              "    .dataframe thead th {\n",
              "        text-align: right;\n",
              "    }\n",
              "</style>\n",
              "<table border=\"1\" class=\"dataframe\">\n",
              "  <thead>\n",
              "    <tr style=\"text-align: right;\">\n",
              "      <th></th>\n",
              "      <th>English</th>\n",
              "      <th>French</th>\n",
              "      <th>ENG_Length</th>\n",
              "      <th>FR_Length</th>\n",
              "    </tr>\n",
              "  </thead>\n",
              "  <tbody>\n",
              "    <tr>\n",
              "      <th>0</th>\n",
              "      <td>the united states is usually chilly during jul...</td>\n",
              "      <td>les étatsunis est généralement froid en juille...</td>\n",
              "      <td>15</td>\n",
              "      <td>13</td>\n",
              "    </tr>\n",
              "    <tr>\n",
              "      <th>1</th>\n",
              "      <td>california is usually quiet during march  and ...</td>\n",
              "      <td>california est généralement calme en mars  et ...</td>\n",
              "      <td>13</td>\n",
              "      <td>13</td>\n",
              "    </tr>\n",
              "    <tr>\n",
              "      <th>2</th>\n",
              "      <td>the united states is sometimes mild during jun...</td>\n",
              "      <td>les étatsunis est parfois légère en juin  et i...</td>\n",
              "      <td>14</td>\n",
              "      <td>13</td>\n",
              "    </tr>\n",
              "    <tr>\n",
              "      <th>3</th>\n",
              "      <td>your least liked fruit is the grape  but my le...</td>\n",
              "      <td>votre moins aimé fruit est le raisin  mais mon...</td>\n",
              "      <td>14</td>\n",
              "      <td>14</td>\n",
              "    </tr>\n",
              "    <tr>\n",
              "      <th>4</th>\n",
              "      <td>his favorite fruit is the orange  but my favor...</td>\n",
              "      <td>son fruit préféré est lorange  mais mon préfér...</td>\n",
              "      <td>12</td>\n",
              "      <td>11</td>\n",
              "    </tr>\n",
              "    <tr>\n",
              "      <th>...</th>\n",
              "      <td>...</td>\n",
              "      <td>...</td>\n",
              "      <td>...</td>\n",
              "      <td>...</td>\n",
              "    </tr>\n",
              "    <tr>\n",
              "      <th>137854</th>\n",
              "      <td>france is never busy during march  and it is s...</td>\n",
              "      <td>la france est jamais occupée en mars  et il es...</td>\n",
              "      <td>13</td>\n",
              "      <td>14</td>\n",
              "    </tr>\n",
              "    <tr>\n",
              "      <th>137855</th>\n",
              "      <td>india is sometimes beautiful during spring  an...</td>\n",
              "      <td>l inde est parfois belle au printemps  et il e...</td>\n",
              "      <td>12</td>\n",
              "      <td>13</td>\n",
              "    </tr>\n",
              "    <tr>\n",
              "      <th>137856</th>\n",
              "      <td>india is never wet during summer  but it is so...</td>\n",
              "      <td>l inde est jamais mouillé pendant l été  mais ...</td>\n",
              "      <td>13</td>\n",
              "      <td>15</td>\n",
              "    </tr>\n",
              "    <tr>\n",
              "      <th>137857</th>\n",
              "      <td>france is never chilly during january  but it ...</td>\n",
              "      <td>la france est jamais froid en janvier  mais il...</td>\n",
              "      <td>13</td>\n",
              "      <td>14</td>\n",
              "    </tr>\n",
              "    <tr>\n",
              "      <th>137858</th>\n",
              "      <td>the orange is her favorite fruit  but the bana...</td>\n",
              "      <td>lorange est son fruit préféré  mais la banane ...</td>\n",
              "      <td>12</td>\n",
              "      <td>11</td>\n",
              "    </tr>\n",
              "  </tbody>\n",
              "</table>\n",
              "<p>137859 rows × 4 columns</p>\n",
              "</div>\n",
              "      <button class=\"colab-df-convert\" onclick=\"convertToInteractive('df-782851bd-d506-464d-99e1-6a0bb2edbf8e')\"\n",
              "              title=\"Convert this dataframe to an interactive table.\"\n",
              "              style=\"display:none;\">\n",
              "        \n",
              "  <svg xmlns=\"http://www.w3.org/2000/svg\" height=\"24px\"viewBox=\"0 0 24 24\"\n",
              "       width=\"24px\">\n",
              "    <path d=\"M0 0h24v24H0V0z\" fill=\"none\"/>\n",
              "    <path d=\"M18.56 5.44l.94 2.06.94-2.06 2.06-.94-2.06-.94-.94-2.06-.94 2.06-2.06.94zm-11 1L8.5 8.5l.94-2.06 2.06-.94-2.06-.94L8.5 2.5l-.94 2.06-2.06.94zm10 10l.94 2.06.94-2.06 2.06-.94-2.06-.94-.94-2.06-.94 2.06-2.06.94z\"/><path d=\"M17.41 7.96l-1.37-1.37c-.4-.4-.92-.59-1.43-.59-.52 0-1.04.2-1.43.59L10.3 9.45l-7.72 7.72c-.78.78-.78 2.05 0 2.83L4 21.41c.39.39.9.59 1.41.59.51 0 1.02-.2 1.41-.59l7.78-7.78 2.81-2.81c.8-.78.8-2.07 0-2.86zM5.41 20L4 18.59l7.72-7.72 1.47 1.35L5.41 20z\"/>\n",
              "  </svg>\n",
              "      </button>\n",
              "      \n",
              "  <style>\n",
              "    .colab-df-container {\n",
              "      display:flex;\n",
              "      flex-wrap:wrap;\n",
              "      gap: 12px;\n",
              "    }\n",
              "\n",
              "    .colab-df-convert {\n",
              "      background-color: #E8F0FE;\n",
              "      border: none;\n",
              "      border-radius: 50%;\n",
              "      cursor: pointer;\n",
              "      display: none;\n",
              "      fill: #1967D2;\n",
              "      height: 32px;\n",
              "      padding: 0 0 0 0;\n",
              "      width: 32px;\n",
              "    }\n",
              "\n",
              "    .colab-df-convert:hover {\n",
              "      background-color: #E2EBFA;\n",
              "      box-shadow: 0px 1px 2px rgba(60, 64, 67, 0.3), 0px 1px 3px 1px rgba(60, 64, 67, 0.15);\n",
              "      fill: #174EA6;\n",
              "    }\n",
              "\n",
              "    [theme=dark] .colab-df-convert {\n",
              "      background-color: #3B4455;\n",
              "      fill: #D2E3FC;\n",
              "    }\n",
              "\n",
              "    [theme=dark] .colab-df-convert:hover {\n",
              "      background-color: #434B5C;\n",
              "      box-shadow: 0px 1px 3px 1px rgba(0, 0, 0, 0.15);\n",
              "      filter: drop-shadow(0px 1px 2px rgba(0, 0, 0, 0.3));\n",
              "      fill: #FFFFFF;\n",
              "    }\n",
              "  </style>\n",
              "\n",
              "      <script>\n",
              "        const buttonEl =\n",
              "          document.querySelector('#df-782851bd-d506-464d-99e1-6a0bb2edbf8e button.colab-df-convert');\n",
              "        buttonEl.style.display =\n",
              "          google.colab.kernel.accessAllowed ? 'block' : 'none';\n",
              "\n",
              "        async function convertToInteractive(key) {\n",
              "          const element = document.querySelector('#df-782851bd-d506-464d-99e1-6a0bb2edbf8e');\n",
              "          const dataTable =\n",
              "            await google.colab.kernel.invokeFunction('convertToInteractive',\n",
              "                                                     [key], {});\n",
              "          if (!dataTable) return;\n",
              "\n",
              "          const docLinkHtml = 'Like what you see? Visit the ' +\n",
              "            '<a target=\"_blank\" href=https://colab.research.google.com/notebooks/data_table.ipynb>data table notebook</a>'\n",
              "            + ' to learn more about interactive tables.';\n",
              "          element.innerHTML = '';\n",
              "          dataTable['output_type'] = 'display_data';\n",
              "          await google.colab.output.renderOutput(dataTable, element);\n",
              "          const docLink = document.createElement('div');\n",
              "          docLink.innerHTML = docLinkHtml;\n",
              "          element.appendChild(docLink);\n",
              "        }\n",
              "      </script>\n",
              "    </div>\n",
              "  </div>\n",
              "  "
            ]
          },
          "metadata": {},
          "execution_count": 12
        }
      ],
      "source": [
        "df['FR_Length']= df['French'].str.split().str.len()\n",
        "df"
      ]
    },
    {
      "cell_type": "code",
      "execution_count": null,
      "metadata": {
        "colab": {
          "base_uri": "https://localhost:8080/",
          "height": 533
        },
        "id": "_q_UIMJ09L24",
        "outputId": "191cc60c-bd4c-4cad-e212-7203d667f3d9"
      },
      "outputs": [
        {
          "output_type": "execute_result",
          "data": {
            "text/plain": [
              "array([[<matplotlib.axes._subplots.AxesSubplot object at 0x7f8db500f6d0>]],\n",
              "      dtype=object)"
            ]
          },
          "metadata": {},
          "execution_count": 13
        },
        {
          "output_type": "display_data",
          "data": {
            "text/plain": [
              "<Figure size 864x576 with 1 Axes>"
            ],
            "image/png": "[encoded data removed]"
          },
          "metadata": {
            "needs_background": "light"
          }
        }
      ],
      "source": [
        "#Visualize the distribution of the lengths of english sentences\n",
        "df.hist(column= 'ENG_Length', grid=False, figsize=(12,8), color='#86bf91', zorder=2, rwidth=0.9)"
      ]
    },
    {
      "cell_type": "code",
      "execution_count": null,
      "metadata": {
        "colab": {
          "base_uri": "https://localhost:8080/",
          "height": 533
        },
        "id": "TSn4L7kW9R7g",
        "outputId": "c5e1ff95-ce04-4b6b-8dbf-20948b508554"
      },
      "outputs": [
        {
          "output_type": "execute_result",
          "data": {
            "text/plain": [
              "array([[<matplotlib.axes._subplots.AxesSubplot object at 0x7f8da19e2690>]],\n",
              "      dtype=object)"
            ]
          },
          "metadata": {},
          "execution_count": 14
        },
        {
          "output_type": "display_data",
          "data": {
            "text/plain": [
              "<Figure size 864x576 with 1 Axes>"
            ],
            "image/png": "[encoded data removed]"
          },
          "metadata": {
            "needs_background": "light"
          }
        }
      ],
      "source": [
        "#Visualize the distribution of the lengths of french sentences\n",
        "df.hist(column= 'FR_Length',grid=False, figsize=(12,8), color='#86bf91', zorder=2, rwidth=0.9)"
      ]
    },
    {
      "cell_type": "code",
      "execution_count": null,
      "metadata": {
        "colab": {
          "base_uri": "https://localhost:8080/"
        },
        "id": "BpnBB04U_lHd",
        "outputId": "8797d70e-173f-411f-9d7d-bcd0bdadae59"
      },
      "outputs": [
        {
          "output_type": "stream",
          "name": "stdout",
          "text": [
            "the maximum length of an english sentence is 15\n",
            "the maximum length of a french sentence is 21\n"
          ]
        }
      ],
      "source": [
        "#Get the maximum length of an english sentence and the maximum length of a french sentence\n",
        "ENG_max_value= df[\"ENG_Length\"].max()\n",
        "print('the maximum length of an english sentence is',ENG_max_value)\n",
        "FR_max_value= df[\"FR_Length\"].max()\n",
        "print('the maximum length of a french sentence is',FR_max_value)"
      ]
    },
    {
      "cell_type": "markdown",
      "metadata": {
        "id": "s4s-spsRyGJv"
      },
      "source": [
        "##Preprocessing the Data"
      ]
    },
    {
      "cell_type": "markdown",
      "metadata": {
        "id": "N0ZmIT2GyJMU"
      },
      "source": [
        "In order for the data to be fed to the model, it has to be tokenized and padded."
      ]
    },
    {
      "cell_type": "markdown",
      "metadata": {
        "id": "R0r9z-eErm9H"
      },
      "source": [
        "####Tokenization"
      ]
    },
    {
      "cell_type": "code",
      "source": [
        "#Tokonizar is a process that seperate paragraph into subsintinces and words.\n",
        "# 2 Tokonizar has been build To tokenize english and french sentences\n",
        "dataset= df.to_numpy()\n",
        "from keras.preprocessing.text import Tokenizer\n",
        "# fit a tokenizer\n",
        "def create_tokenizer(lines):\n",
        "\ttokenizer = Tokenizer()\n",
        "\ttokenizer.fit_on_texts(lines)\n",
        "\treturn tokenizer\n",
        "# prepare english tokenizer\n",
        "eng_tokenizer = create_tokenizer(dataset[:, 0])\n",
        "eng_vocab_size = len(eng_tokenizer.word_index) + 1\n",
        "print('English Vocabulary Size: %d' % eng_vocab_size)\n",
        "# prepare french tokenizer\n",
        "fre_tokenizer = create_tokenizer(dataset[:, 1])\n",
        "fre_vocab_size = len(fre_tokenizer.word_index) + 1\n",
        "print('French Vocabulary Size: %d' % fre_vocab_size)"
      ],
      "metadata": {
        "colab": {
          "base_uri": "https://localhost:8080/"
        },
        "id": "TRQcIhEibZJ2",
        "outputId": "4b34367f-4490-458f-f964-b18e11402c43"
      },
      "execution_count": null,
      "outputs": [
        {
          "output_type": "stream",
          "name": "stdout",
          "text": [
            "English Vocabulary Size: 200\n",
            "French Vocabulary Size: 345\n"
          ]
        }
      ]
    },
    {
      "cell_type": "code",
      "execution_count": null,
      "metadata": {
        "colab": {
          "base_uri": "https://localhost:8080/"
        },
        "id": "1WahkdzKvIlO",
        "outputId": "75da28b7-5498-4dd0-ed99-3e7812a7628a"
      },
      "outputs": [
        {
          "output_type": "stream",
          "name": "stdout",
          "text": [
            "14 unique English words.\n",
            "15 unique French words.\n"
          ]
        }
      ],
      "source": [
        "#Countting unique words in english and in french\n",
        "from collections import Counter\n",
        "english_words_counter = Counter([word for sentence in English for word in sentence.split()])\n",
        "print('{} unique English words.'.format(len(english_words_counter)))\n",
        "french_words_counter = Counter([word for sentence in French for word in sentence.split()])\n",
        "print('{} unique French words.'.format(len(french_words_counter)))"
      ]
    },
    {
      "cell_type": "markdown",
      "metadata": {
        "id": "g0C2RJjArtJd"
      },
      "source": [
        "####Padding"
      ]
    },
    {
      "cell_type": "code",
      "execution_count": null,
      "metadata": {
        "id": "vz_Fk-skgAMP"
      },
      "outputs": [],
      "source": [
        "#Perform padding on the sequences .\n",
        "#Aftre Padding, the tow sentinces must to be at the same length\n",
        "from keras.preprocessing.sequence import pad_sequences\n",
        "\n",
        "# encode and pad sequences\n",
        "def encode_sequences(tokenizer, length, lines):\n",
        "\t# integer encode sequences\n",
        "\tX = eng_tokenizer.texts_to_sequences(lines)\n",
        "\t# pad sequences with 0 values\n",
        "\tX = pad_sequences(X, maxlen=21, padding='post')\n",
        "\treturn X\n",
        "# one hot encode target sequence\n",
        "def encode_output(sequences, vocab_size):\n",
        "\tylist = list()\n",
        "\tfor sequence in sequences:\n",
        "\t\tencoded = to_categorical(sequence, num_classes=vocab_size)\n",
        "\t\tylist.append(encoded)\n",
        "\ty = array(ylist)\n",
        "\ty = y.reshape(sequences.shape[0], sequences.shape[1], vocab_size)\n",
        "\treturn y\n",
        ""
      ]
    },
    {
      "cell_type": "markdown",
      "metadata": {
        "id": "JxvvVU3ezUHR"
      },
      "source": [
        "##Modeling"
      ]
    },
    {
      "cell_type": "code",
      "execution_count": null,
      "metadata": {
        "id": "MBIFiOR-CR57"
      },
      "outputs": [],
      "source": [
        "#Start by building a baseline architecture relying on one directional RNNs, LSTMs, or GRUs.\n",
        "#It will be good to lookup how to build Seq2Seq models,there are some new layers that will help you like RepeatVector and TimeDistributed.\n",
        "from keras.models import Model\n",
        "from keras.layers import Input, LSTM, RepeatVector\n",
        "from keras.layers import TimeDistributed\n",
        "from keras.models import Sequential\n",
        "from keras.layers import Bidirectional\n",
        "from keras.layers.core import Activation, Dropout, Dense\n",
        "from keras.layers import Embedding\n",
        "from tensorflow.keras.utils import to_categorical\n",
        "from keras.utils.vis_utils import plot_model\n",
        "from numpy import array\n",
        "\n",
        "def define_model(src_vocab, tar_vocab, src_timesteps, tar_timesteps, n_units):\n",
        "\tmodel = Sequential()\n",
        "\tmodel.add(Embedding(src_vocab, n_units, input_length=src_timesteps, mask_zero=True))\n",
        "\tmodel.add(LSTM(n_units))\n",
        "\tmodel.add(RepeatVector(tar_timesteps))\n",
        "\tmodel.add(LSTM(n_units, return_sequences=True))\n",
        "\tmodel.add(TimeDistributed(Dense(tar_vocab, activation='softmax')))\n",
        "\treturn model"
      ]
    },
    {
      "cell_type": "code",
      "execution_count": null,
      "metadata": {
        "id": "aOZN7c9Wgubl"
      },
      "outputs": [],
      "source": [
        "# prepare training data\n",
        "trainX = encode_sequences(eng_tokenizer, ENG_max_value, dataset[:, 0])\n",
        "trainY = encode_sequences(fre_tokenizer, FR_max_value, dataset[:, 1])\n",
        "trainY = encode_output(trainY, eng_vocab_size)\n",
        "# prepare validation data\n",
        "testX = encode_sequences(eng_tokenizer, ENG_max_value, dataset[:, 0])\n",
        "testY = encode_sequences(fre_tokenizer, FR_max_value, dataset[:, 1])\n",
        "testY = encode_output(testY, eng_vocab_size)"
      ]
    },
    {
      "cell_type": "code",
      "execution_count": null,
      "metadata": {
        "colab": {
          "base_uri": "https://localhost:8080/",
          "height": 1000
        },
        "id": "_OWHag-piLpk",
        "outputId": "e25ca627-eea2-435d-fa89-48f295ec8f02"
      },
      "outputs": [
        {
          "output_type": "stream",
          "name": "stdout",
          "text": [
            "Model: \"sequential\"\n",
            "_________________________________________________________________\n",
            " Layer (type)                Output Shape              Param #   \n",
            "=================================================================\n",
            " embedding (Embedding)       (None, 15, 256)           51200     \n",
            "                                                                 \n",
            " lstm (LSTM)                 (None, 256)               525312    \n",
            "                                                                 \n",
            " repeat_vector (RepeatVector  (None, 21, 256)          0         \n",
            " )                                                               \n",
            "                                                                 \n",
            " lstm_1 (LSTM)               (None, 21, 256)           525312    \n",
            "                                                                 \n",
            " time_distributed (TimeDistr  (None, 21, 345)          88665     \n",
            " ibuted)                                                         \n",
            "                                                                 \n",
            "=================================================================\n",
            "Total params: 1,190,489\n",
            "Trainable params: 1,190,489\n",
            "Non-trainable params: 0\n",
            "_________________________________________________________________\n",
            "None\n"
          ]
        },
        {
          "output_type": "execute_result",
          "data": {
            "text/plain": [
              "<IPython.core.display.Image object>"
            ],
            "image/png": "[encoded data removed]"
          },
          "metadata": {},
          "execution_count": 21
        }
      ],
      "source": [
        "# define model\n",
        "model = define_model(eng_vocab_size,fre_vocab_size, ENG_max_value, FR_max_value, 256)\n",
        "model.compile(optimizer='adam', loss='categorical_crossentropy')\n",
        "# summarize defined model\n",
        "print(model.summary())\n",
        "plot_model(model, to_file='model.png', show_shapes=True)"
      ]
    },
    {
      "cell_type": "markdown",
      "metadata": {
        "id": "aP10HtNBzpT0"
      },
      "source": [
        "Compile and train the model. be patient the model might take A LOT of time to train."
      ]
    },
    {
      "cell_type": "code",
      "execution_count": null,
      "metadata": {
        "colab": {
          "base_uri": "https://localhost:8080/",
          "height": 624
        },
        "id": "5AAxXmxsiP0q",
        "outputId": "a37204dd-b1ff-4361-98c7-58cdc9a1d104"
      },
      "outputs": [
        {
          "output_type": "stream",
          "name": "stdout",
          "text": [
            "Epoch 1/10\n"
          ]
        },
        {
          "output_type": "error",
          "ename": "ValueError",
          "evalue": "ignored",
          "traceback": [
            "\u001b[0;31m---------------------------------------------------------------------------\u001b[0m",
            "\u001b[0;31mValueError\u001b[0m                                Traceback (most recent call last)",
            "\u001b[0;32m<ipython-input-22-3c5c40d588a2>\u001b[0m in \u001b[0;36m<module>\u001b[0;34m()\u001b[0m\n\u001b[1;32m      3\u001b[0m \u001b[0mfilename\u001b[0m \u001b[0;34m=\u001b[0m \u001b[0;34m'model.h5'\u001b[0m\u001b[0;34m\u001b[0m\u001b[0;34m\u001b[0m\u001b[0m\n\u001b[1;32m      4\u001b[0m \u001b[0mcheckpoint\u001b[0m \u001b[0;34m=\u001b[0m \u001b[0mModelCheckpoint\u001b[0m\u001b[0;34m(\u001b[0m\u001b[0mfilename\u001b[0m\u001b[0;34m,\u001b[0m \u001b[0mmonitor\u001b[0m\u001b[0;34m=\u001b[0m\u001b[0;34m'val_loss'\u001b[0m\u001b[0;34m,\u001b[0m \u001b[0mverbose\u001b[0m\u001b[0;34m=\u001b[0m\u001b[0;36m1\u001b[0m\u001b[0;34m,\u001b[0m \u001b[0msave_best_only\u001b[0m\u001b[0;34m=\u001b[0m\u001b[0;32mTrue\u001b[0m\u001b[0;34m,\u001b[0m \u001b[0mmode\u001b[0m\u001b[0;34m=\u001b[0m\u001b[0;34m'min'\u001b[0m\u001b[0;34m)\u001b[0m\u001b[0;34m\u001b[0m\u001b[0;34m\u001b[0m\u001b[0m\n\u001b[0;32m----> 5\u001b[0;31m \u001b[0mmodel\u001b[0m\u001b[0;34m.\u001b[0m\u001b[0mfit\u001b[0m\u001b[0;34m(\u001b[0m\u001b[0mtrainX\u001b[0m\u001b[0;34m,\u001b[0m \u001b[0mtrainY\u001b[0m\u001b[0;34m,\u001b[0m \u001b[0mepochs\u001b[0m\u001b[0;34m=\u001b[0m\u001b[0;36m10\u001b[0m\u001b[0;34m,\u001b[0m \u001b[0mbatch_size\u001b[0m\u001b[0;34m=\u001b[0m\u001b[0;36m64\u001b[0m\u001b[0;34m,\u001b[0m \u001b[0mvalidation_data\u001b[0m\u001b[0;34m=\u001b[0m\u001b[0;34m(\u001b[0m\u001b[0mtestX\u001b[0m\u001b[0;34m,\u001b[0m \u001b[0mtestY\u001b[0m\u001b[0;34m)\u001b[0m\u001b[0;34m,\u001b[0m \u001b[0mcallbacks\u001b[0m\u001b[0;34m=\u001b[0m\u001b[0;34m[\u001b[0m\u001b[0mcheckpoint\u001b[0m\u001b[0;34m]\u001b[0m\u001b[0;34m,\u001b[0m \u001b[0mverbose\u001b[0m\u001b[0;34m=\u001b[0m\u001b[0;36m2\u001b[0m\u001b[0;34m)\u001b[0m\u001b[0;34m\u001b[0m\u001b[0;34m\u001b[0m\u001b[0m\n\u001b[0m",
            "\u001b[0;32m/usr/local/lib/python3.7/dist-packages/keras/utils/traceback_utils.py\u001b[0m in \u001b[0;36merror_handler\u001b[0;34m(*args, **kwargs)\u001b[0m\n\u001b[1;32m     65\u001b[0m     \u001b[0;32mexcept\u001b[0m \u001b[0mException\u001b[0m \u001b[0;32mas\u001b[0m \u001b[0me\u001b[0m\u001b[0;34m:\u001b[0m  \u001b[0;31m# pylint: disable=broad-except\u001b[0m\u001b[0;34m\u001b[0m\u001b[0;34m\u001b[0m\u001b[0m\n\u001b[1;32m     66\u001b[0m       \u001b[0mfiltered_tb\u001b[0m \u001b[0;34m=\u001b[0m \u001b[0m_process_traceback_frames\u001b[0m\u001b[0;34m(\u001b[0m\u001b[0me\u001b[0m\u001b[0;34m.\u001b[0m\u001b[0m__traceback__\u001b[0m\u001b[0;34m)\u001b[0m\u001b[0;34m\u001b[0m\u001b[0;34m\u001b[0m\u001b[0m\n\u001b[0;32m---> 67\u001b[0;31m       \u001b[0;32mraise\u001b[0m \u001b[0me\u001b[0m\u001b[0;34m.\u001b[0m\u001b[0mwith_traceback\u001b[0m\u001b[0;34m(\u001b[0m\u001b[0mfiltered_tb\u001b[0m\u001b[0;34m)\u001b[0m \u001b[0;32mfrom\u001b[0m \u001b[0;32mNone\u001b[0m\u001b[0;34m\u001b[0m\u001b[0;34m\u001b[0m\u001b[0m\n\u001b[0m\u001b[1;32m     68\u001b[0m     \u001b[0;32mfinally\u001b[0m\u001b[0;34m:\u001b[0m\u001b[0;34m\u001b[0m\u001b[0;34m\u001b[0m\u001b[0m\n\u001b[1;32m     69\u001b[0m       \u001b[0;32mdel\u001b[0m \u001b[0mfiltered_tb\u001b[0m\u001b[0;34m\u001b[0m\u001b[0;34m\u001b[0m\u001b[0m\n",
            "\u001b[0;32m/usr/local/lib/python3.7/dist-packages/tensorflow/python/framework/func_graph.py\u001b[0m in \u001b[0;36mautograph_handler\u001b[0;34m(*args, **kwargs)\u001b[0m\n\u001b[1;32m   1145\u001b[0m           \u001b[0;32mexcept\u001b[0m \u001b[0mException\u001b[0m \u001b[0;32mas\u001b[0m \u001b[0me\u001b[0m\u001b[0;34m:\u001b[0m  \u001b[0;31m# pylint:disable=broad-except\u001b[0m\u001b[0;34m\u001b[0m\u001b[0;34m\u001b[0m\u001b[0m\n\u001b[1;32m   1146\u001b[0m             \u001b[0;32mif\u001b[0m \u001b[0mhasattr\u001b[0m\u001b[0;34m(\u001b[0m\u001b[0me\u001b[0m\u001b[0;34m,\u001b[0m \u001b[0;34m\"ag_error_metadata\"\u001b[0m\u001b[0;34m)\u001b[0m\u001b[0;34m:\u001b[0m\u001b[0;34m\u001b[0m\u001b[0;34m\u001b[0m\u001b[0m\n\u001b[0;32m-> 1147\u001b[0;31m               \u001b[0;32mraise\u001b[0m \u001b[0me\u001b[0m\u001b[0;34m.\u001b[0m\u001b[0mag_error_metadata\u001b[0m\u001b[0;34m.\u001b[0m\u001b[0mto_exception\u001b[0m\u001b[0;34m(\u001b[0m\u001b[0me\u001b[0m\u001b[0;34m)\u001b[0m\u001b[0;34m\u001b[0m\u001b[0;34m\u001b[0m\u001b[0m\n\u001b[0m\u001b[1;32m   1148\u001b[0m             \u001b[0;32melse\u001b[0m\u001b[0;34m:\u001b[0m\u001b[0;34m\u001b[0m\u001b[0;34m\u001b[0m\u001b[0m\n\u001b[1;32m   1149\u001b[0m               \u001b[0;32mraise\u001b[0m\u001b[0;34m\u001b[0m\u001b[0;34m\u001b[0m\u001b[0m\n",
            "\u001b[0;31mValueError\u001b[0m: in user code:\n\n    File \"/usr/local/lib/python3.7/dist-packages/keras/engine/training.py\", line 1021, in train_function  *\n        return step_function(self, iterator)\n    File \"/usr/local/lib/python3.7/dist-packages/keras/engine/training.py\", line 1010, in step_function  **\n        outputs = model.distribute_strategy.run(run_step, args=(data,))\n    File \"/usr/local/lib/python3.7/dist-packages/keras/engine/training.py\", line 1000, in run_step  **\n        outputs = model.train_step(data)\n    File \"/usr/local/lib/python3.7/dist-packages/keras/engine/training.py\", line 859, in train_step\n        y_pred = self(x, training=True)\n    File \"/usr/local/lib/python3.7/dist-packages/keras/utils/traceback_utils.py\", line 67, in error_handler\n        raise e.with_traceback(filtered_tb) from None\n    File \"/usr/local/lib/python3.7/dist-packages/keras/engine/input_spec.py\", line 264, in assert_input_compatibility\n        raise ValueError(f'Input {input_index} of layer \"{layer_name}\" is '\n\n    ValueError: Input 0 of layer \"sequential\" is incompatible with the layer: expected shape=(None, 15), found shape=(None, 21)\n"
          ]
        }
      ],
      "source": [
        "from keras.callbacks import ModelCheckpoint\n",
        "# fit model\n",
        "filename = 'model.h5'\n",
        "checkpoint = ModelCheckpoint(filename, monitor='val_loss', verbose=1, save_best_only=True, mode='min')\n",
        "model.fit(trainX, trainY, epochs=10, batch_size=64, validation_data=(testX, testY), callbacks=[checkpoint], verbose=2)"
      ]
    },
    {
      "cell_type": "code",
      "execution_count": null,
      "metadata": {
        "id": "fDmNqnZIQMko"
      },
      "outputs": [],
      "source": [
        "# Define a function that gets an input sentence in english and gives the output sentence in the french language.\n",
        "#Test the following sentence\n",
        "input = \"she is driving the truck\"\n",
        "\n",
        "def final_predictions(x, y, x_tk, y_tk):\n",
        "    \"\"\"\n",
        "    Gets predictions using the final model\n",
        "    :param x: Preprocessed English data\n",
        "    :param y: Preprocessed French data\n",
        "    :param x_tk: English tokenizer\n",
        "    :param y_tk: French tokenizer\n",
        "    \"\"\"\n",
        "\n",
        "    y_id_to_word = {value: key for key, value in y_tk.word_index.items()}\n",
        "    y_id_to_word[0] = '<PAD>'\n",
        "\n",
        "    sentence = 'she is driving the truck'\n",
        "    sentence = [x_tk.word_index[word] for word in sentence.split()]\n",
        "    sentence = pad_sequences([sentence], maxlen=x.shape[-1], padding='post')\n",
        "    sentences = np.array([sentence[0], x[0]])\n",
        "    predictions = model.predict(sentences, len(sentences))\n",
        "\n",
        "    print('Sample 1:')\n",
        "    print(' '.join([y_id_to_word[np.argmax(x)] for x in predictions[0]]))\n",
        "    print('Il a vu un vieux camion jaune')\n",
        "    print('Sample 2:')\n",
        "    print(' '.join([y_id_to_word[np.argmax(x)] for x in predictions[1]]))\n",
        "    print(' '.join([y_id_to_word[np.max(x)] for x in y[0]]))\n",
        ""
      ]
    },
    {
      "cell_type": "markdown",
      "metadata": {
        "id": "wdI2XhaBz6CN"
      },
      "source": [
        "Improving the model by modifying the architecture to take into account bidirectionality which is very useful in Machine Translation."
      ]
    },
    {
      "cell_type": "code",
      "execution_count": null,
      "metadata": {
        "id": "XsnF7dUQL8Nh"
      },
      "outputs": [],
      "source": [
        ", LSTMCellV2\n",
        "# Create a new model called model2\n",
        "#Build the bidirectional RNN model\n",
        "def bi_embed_model(input_shape, output_sequence_length, english_vocab_size, french_vocab_size):\n",
        "  model2 = Sequential()\n",
        "  model2.add(Embedding(english_vocab_size, 100, input_length=input_shape[1], input_shape=input_shape[1:]))\n",
        "  model2.add(Bidirectional(LSTM(128, return_sequences=True)))\n",
        "  model2.add(Dropout(0.5))\n",
        "  model2.add(Bidirectional(LSTM(128,  return_sequences=True)))\n",
        "  model2.add(Dropout(0.5))\n",
        "  model2.add(TimeDistributed(Dense(256, activation='relu')))\n",
        "  model2.add(Dropout(0.5))\n",
        "  model2.add(TimeDistributed(Dense(french_vocab_size, activation='softmax')))\n",
        "  model2.compile(loss='categorical_crossentropy',optimizer='adam',metrics=['accuracy'])\n",
        "  return model2"
      ]
    },
    {
      "cell_type": "code",
      "execution_count": null,
      "metadata": {
        "id": "iK1QvVmaTWI2"
      },
      "outputs": [],
      "source": [
        "#compile and train the new model.\n",
        "model2 = define_model (eng_vocab_size,fre_vocab_size, ENG_max_value, FR_max_value, 256)\n",
        "model2.compile(loss='sparse_categorical_crossentropy',optimizer='adam', metrics=['accuracy'])\n"
      ]
    },
    {
      "cell_type": "code",
      "execution_count": null,
      "metadata": {
        "id": "8CO0pO6-UAeE"
      },
      "outputs": [],
      "source": [
        "#Define a new function that relies on the new model to make predictions.\n",
        "input = \"she is driving the truck\"\n",
        "def decode_response(test_input):\n",
        "    #Getting the output states to pass into the decoder\n",
        "    states_value = encoder_model.predict(test_input)\n",
        "    #Generating empty target sequence of length 1\n",
        "    target_seq = np.zeros((1, 1, num_decoder_tokens))\n",
        "    #Setting the first token of target sequence with the start token\n",
        "    target_seq[0, 0, target_features_dict['<START>']] = 1.\n",
        "\n",
        "    #A variable to store our response word by word\n",
        "    decoded_sentence = ''\n",
        "\n",
        "    stop_condition = False\n",
        "    while not stop_condition:\n",
        "      #Predicting output tokens with probabilities and states\n",
        "      output_tokens, hidden_state, cell_state = decoder_model.predict([target_seq] + states_value)\n",
        "      #Choosing the one with highest probability\n",
        "      sampled_token_index = np.argmax(output_tokens[0, -1, :])\n",
        "      sampled_token = reverse_target_features_dict[sampled_token_index]\n",
        "      decoded_sentence += \" \" + sampled_token#Stop if hit max length or found the stop token\n",
        "      if (sampled_token == '<END>' or len(decoded_sentence) > max_decoder_seq_length):\n",
        "        stop_condition = True\n",
        "      #Update the target sequence\n",
        "      target_seq = np.zeros((1, 1, num_decoder_tokens))\n",
        "      target_seq[0, 0, sampled_token_index] = 1.\n",
        "      #Update states\n",
        "      states_value = [hidden_state, cell_state]\n",
        "    return decoded_sentence\n",
        "#Test Your Zaka"
      ]
    },
    {
      "cell_type": "markdown",
      "metadata": {
        "id": "bekjOkjbZlBf"
      },
      "source": [
        "**Adjustment in terms of architecture to improve the model:**\n",
        "\n",
        "Increasing Number of attention heads, Batch size,No of epochs for training change Optimizer and its parameter might be able to improve the model.\n"
      ]
    },
    {
      "cell_type": "markdown",
      "metadata": {
        "id": "s7_MCCbQt3uq"
      },
      "source": [
        "**Additional ways to improve the performance of the model:**\n",
        "*   WeightDrop in the encoder\n",
        "*   Embedding dropout\n",
        "\n",
        "\n"
      ]
    }
  ],
  "metadata": {
    "accelerator": "GPU",
    "colab": {
      "provenance": [],
      "include_colab_link": true
    },
    "kernelspec": {
      "display_name": "Python 3",
      "name": "python3"
    },
    "language_info": {
      "name": "python"
    }
  },
  "nbformat": 4,
  "nbformat_minor": 0
}